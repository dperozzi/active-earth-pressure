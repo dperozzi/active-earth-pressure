{
 "cells": [
  {
   "cell_type": "markdown",
   "metadata": {},
   "source": [
    "Generate figures and content for \"Limit-state solutions for the active earth pressure behind walls rotating about the base\" by D. Perozzi and A. M. Puzrin\n",
    "=========================================================================================================================================================="
   ]
  },
  {
   "cell_type": "markdown",
   "metadata": {},
   "source": [
    "Copyright (c) 2023. ETH Zurich, David Perozzi; D-BAUG; Institute for Geotechnical Engineering; Chair of Geomechanics and Geosystems Engineering\n",
    "\n",
    "This program is free software: you can redistribute it and/or modify it under the terms of the GNU General Public License as published by the Free Software Foundation, either version 3 of the License, or (at your option) any later version.\n",
    "\n",
    "This program is distributed in the hope that it will be useful, but WITHOUT ANY WARRANTY; without even the implied warranty of MERCHANTABILITY or FITNESS FOR A PARTICULAR PURPOSE.  See the GNU General Public License for more details.\n",
    "\n",
    "You should have received a copy of the GNU General Public License along with this program.  If not, see <https://www.gnu.org/licenses/>."
   ]
  },
  {
   "cell_type": "markdown",
   "metadata": {},
   "source": [
    "### NOTE: Sign Convention Difference\n",
    "\n",
    "The sign convention for $\\alpha$ used in the module [earth_pressure_la](earth_pressure_la/__init__.py) is opposite to what has been defined in the corresponding paper (see also the [README file](README.md)). In this notebook, the cell titles and plot labels use the paper's convention, while the code must use the convention of the module."
   ]
  },
  {
   "cell_type": "code",
   "execution_count": null,
   "metadata": {
    "ExecuteTime": {
     "end_time": "2023-08-29T07:18:24.922608400Z",
     "start_time": "2023-08-29T07:18:23.524886300Z"
    },
    "collapsed": false
   },
   "outputs": [],
   "source": [
    "import math\n",
    "import os\n",
    "\n",
    "import matplotlib as mpl\n",
    "import matplotlib.pyplot as plt\n",
    "import numpy as np\n",
    "import pandas as pd\n",
    "from IPython.utils import io\n",
    "%matplotlib widget\n",
    "from matplotlib import ticker as mtick\n",
    "from matplotlib.lines import Line2D\n",
    "from matplotlib.patches import Patch\n",
    "\n",
    "from earth_pressure_la import mechanisms as mec\n",
    "from earth_pressure_la import kinematic_solution as kis\n",
    "from earth_pressure_la import static_solution as sts\n",
    "from misc.definitions import ALPHA, BETA, DELTA, PHI\n",
    "from misc.definitions import ONE_WEDGE, TWO_WEDGES, EXT_ONE_WEDGE\n",
    "from misc.helpers import find_nearest"
   ]
  },
  {
   "cell_type": "code",
   "execution_count": null,
   "metadata": {
    "ExecuteTime": {
     "end_time": "2023-08-29T07:18:24.922848375Z",
     "start_time": "2023-08-29T07:18:24.576947571Z"
    },
    "collapsed": false
   },
   "outputs": [],
   "source": [
    "plt.style.use(\"mpl_stylesheets/publications.mplstyle\")\n",
    "# Override the output format to png for nonproduction plots\n",
    "plt.rcParams['savefig.format'] = 'png'\n",
    "\n",
    "out_dir = \"out/\"\n",
    "\n",
    "if not os.path.exists(out_dir):\n",
    "    os.makedirs(out_dir)\n",
    "\n",
    "colors = plt.rcParams['axes.prop_cycle'].by_key()['color']\n",
    "figsize = mpl.rcParams[\"figure.figsize\"]\n",
    "\n",
    "factor_vec_length = 1"
   ]
  },
  {
   "cell_type": "markdown",
   "metadata": {},
   "source": [
    "## Evaluate kinematic and static solution for a vertical wall"
   ]
  },
  {
   "cell_type": "markdown",
   "metadata": {},
   "source": [
    "$$\\alpha=0^\\circ, \\,\\varphi=30^\\circ, \\,\\delta=2/3\\varphi,\\, \\beta=\\text{var.}$$"
   ]
  },
  {
   "cell_type": "code",
   "execution_count": null,
   "metadata": {
    "ExecuteTime": {
     "end_time": "2023-08-29T07:18:25.584451410Z",
     "start_time": "2023-08-29T07:18:25.579402285Z"
    }
   },
   "outputs": [],
   "source": [
    "beta = np.deg2rad(np.linspace(-30, 30, 61 * factor_vec_length))\n",
    "phi = math.radians(30)\n",
    "delta = math.radians(20)\n",
    "alpha = 0."
   ]
  },
  {
   "cell_type": "code",
   "execution_count": null,
   "metadata": {
    "ExecuteTime": {
     "end_time": "2023-08-29T07:23:30.465175155Z",
     "start_time": "2023-08-29T07:18:25.582069280Z"
    }
   },
   "outputs": [],
   "source": [
    "params = {PHI: phi, ALPHA: alpha, BETA: beta, DELTA: delta}\n",
    "\n",
    "kin_sol_rf_all30 = kis.KinematicSolution([ONE_WEDGE, TWO_WEDGES, EXT_ONE_WEDGE], params, \"RF\")\n",
    "kin_sol_rf_all30.set_var_parameter(BETA)\n",
    "kin_sol_t_all30 = kis.KinematicSolution([ONE_WEDGE, TWO_WEDGES, EXT_ONE_WEDGE], params, \"T\")\n",
    "kin_sol_t_all30.set_var_parameter(BETA)\n",
    "\n",
    "with io.capture_output() as captured:\n",
    "    kin_sol_rf_all30.optimize()\n",
    "    kin_sol_t_all30.optimize()"
   ]
  },
  {
   "cell_type": "code",
   "execution_count": null,
   "metadata": {
    "ExecuteTime": {
     "end_time": "2023-08-29T07:23:30.468001117Z",
     "start_time": "2023-08-29T07:23:30.465033628Z"
    },
    "collapsed": false
   },
   "outputs": [],
   "source": [
    "lancellotta_ext30 = sts.LancellottaExtended()\n",
    "lancellotta_ext30.set_parameters(phi, delta, alpha, beta)\n",
    "lancellotta_ext30.compute()"
   ]
  },
  {
   "cell_type": "markdown",
   "metadata": {},
   "source": [
    "$$\\alpha=0^\\circ, \\,\\varphi=35^\\circ, \\,\\delta=2/3\\varphi,\\, \\beta=\\text{var.}$$"
   ]
  },
  {
   "cell_type": "code",
   "execution_count": null,
   "metadata": {
    "ExecuteTime": {
     "end_time": "2023-08-29T07:23:30.470538178Z",
     "start_time": "2023-08-29T07:23:30.467620504Z"
    }
   },
   "outputs": [],
   "source": [
    "beta35 = np.deg2rad(np.linspace(-35, 35, 71 * factor_vec_length))\n",
    "phi = math.radians(35)\n",
    "delta = 2. / 3. * phi\n",
    "alpha = 0."
   ]
  },
  {
   "cell_type": "code",
   "execution_count": null,
   "metadata": {
    "ExecuteTime": {
     "end_time": "2023-08-29T07:29:28.929247163Z",
     "start_time": "2023-08-29T07:23:30.467933803Z"
    }
   },
   "outputs": [],
   "source": [
    "params = {PHI: phi, ALPHA: alpha, BETA: beta35, DELTA: delta}\n",
    "\n",
    "kin_sol_rf_all35 = kis.KinematicSolution([ONE_WEDGE, TWO_WEDGES, EXT_ONE_WEDGE], params, \"RF\")\n",
    "kin_sol_rf_all35.set_var_parameter(BETA)\n",
    "kin_sol_t_all35 = kis.KinematicSolution([ONE_WEDGE, TWO_WEDGES, EXT_ONE_WEDGE], params, \"T\")\n",
    "kin_sol_t_all35.set_var_parameter(BETA)\n",
    "\n",
    "with io.capture_output() as captured:\n",
    "    kin_sol_rf_all35.optimize()\n",
    "    kin_sol_t_all35.optimize()"
   ]
  },
  {
   "cell_type": "code",
   "execution_count": null,
   "metadata": {
    "ExecuteTime": {
     "end_time": "2023-08-29T07:29:28.931058894Z",
     "start_time": "2023-08-29T07:29:28.929091276Z"
    },
    "collapsed": false
   },
   "outputs": [],
   "source": [
    "lancellotta_ext35 = sts.LancellottaExtended()\n",
    "lancellotta_ext35.set_parameters(phi, delta, alpha, beta35)\n",
    "lancellotta_ext35.compute()"
   ]
  },
  {
   "cell_type": "markdown",
   "metadata": {},
   "source": [
    "$$\\alpha=0^\\circ, \\,\\varphi=40^\\circ, \\,\\delta=2/3\\varphi,\\, \\beta=\\text{var.}$$"
   ]
  },
  {
   "cell_type": "code",
   "execution_count": null,
   "metadata": {
    "ExecuteTime": {
     "end_time": "2023-08-29T07:29:28.933773438Z",
     "start_time": "2023-08-29T07:29:28.930892182Z"
    },
    "collapsed": false
   },
   "outputs": [],
   "source": [
    "beta40 = np.deg2rad(np.linspace(-40, 40, 81 * factor_vec_length))\n",
    "phi = math.radians(40)\n",
    "delta = 2. / 3. * phi\n",
    "alpha = 0."
   ]
  },
  {
   "cell_type": "code",
   "execution_count": null,
   "metadata": {
    "ExecuteTime": {
     "end_time": "2023-08-29T07:36:09.857126986Z",
     "start_time": "2023-08-29T07:29:28.931210490Z"
    },
    "collapsed": false
   },
   "outputs": [],
   "source": [
    "params = {PHI: phi, ALPHA: alpha, BETA: beta40, DELTA: delta}\n",
    "\n",
    "kin_sol_rf_all40 = kis.KinematicSolution([ONE_WEDGE, TWO_WEDGES, EXT_ONE_WEDGE], params, \"RF\")\n",
    "kin_sol_rf_all40.set_var_parameter(BETA)\n",
    "kin_sol_t_all40 = kis.KinematicSolution([ONE_WEDGE, TWO_WEDGES, EXT_ONE_WEDGE], params, \"T\")\n",
    "kin_sol_t_all40.set_var_parameter(BETA)\n",
    "\n",
    "with io.capture_output() as captured:\n",
    "    kin_sol_rf_all40.optimize()\n",
    "    kin_sol_t_all40.optimize()"
   ]
  },
  {
   "cell_type": "code",
   "execution_count": null,
   "metadata": {
    "ExecuteTime": {
     "end_time": "2023-08-29T07:36:09.857651869Z",
     "start_time": "2023-08-29T07:36:09.857021472Z"
    },
    "collapsed": false
   },
   "outputs": [],
   "source": [
    "lancellotta_ext40 = sts.LancellottaExtended()\n",
    "lancellotta_ext40.set_parameters(phi, delta, alpha, beta40)\n",
    "lancellotta_ext40.compute()"
   ]
  },
  {
   "cell_type": "markdown",
   "metadata": {},
   "source": [
    "$$\\alpha=0^\\circ, \\,\\varphi=25^\\circ, \\,\\delta=2/3\\varphi,\\, \\beta=\\text{var.}$$"
   ]
  },
  {
   "cell_type": "code",
   "execution_count": null,
   "metadata": {
    "ExecuteTime": {
     "end_time": "2023-08-29T07:36:09.857775804Z",
     "start_time": "2023-08-29T07:36:09.857319054Z"
    }
   },
   "outputs": [],
   "source": [
    "beta25 = np.deg2rad(np.linspace(-25, 25, 51 * factor_vec_length))\n",
    "phi = math.radians(25)\n",
    "delta = 2. / 3. * phi\n",
    "alpha = 0."
   ]
  },
  {
   "cell_type": "code",
   "execution_count": null,
   "metadata": {
    "ExecuteTime": {
     "end_time": "2023-08-29T07:40:34.981132155Z",
     "start_time": "2023-08-29T07:36:09.857533394Z"
    }
   },
   "outputs": [],
   "source": [
    "params = {PHI: phi, ALPHA: alpha, BETA: beta25, DELTA: delta}\n",
    "\n",
    "kin_sol_rf_all25 = kis.KinematicSolution([ONE_WEDGE, TWO_WEDGES, EXT_ONE_WEDGE], params, \"RF\")\n",
    "kin_sol_rf_all25.set_var_parameter(BETA)\n",
    "kin_sol_t_all25 = kis.KinematicSolution([ONE_WEDGE, TWO_WEDGES, EXT_ONE_WEDGE], params, \"T\")\n",
    "kin_sol_t_all25.set_var_parameter(BETA)\n",
    "\n",
    "with io.capture_output() as captured:\n",
    "    kin_sol_rf_all25.optimize()\n",
    "    kin_sol_t_all25.optimize()"
   ]
  },
  {
   "cell_type": "code",
   "execution_count": null,
   "metadata": {
    "ExecuteTime": {
     "end_time": "2023-08-29T07:40:34.983320517Z",
     "start_time": "2023-08-29T07:40:34.980986870Z"
    },
    "collapsed": false
   },
   "outputs": [],
   "source": [
    "lancellotta_ext25 = sts.LancellottaExtended()\n",
    "lancellotta_ext25.set_parameters(phi, delta, alpha, beta25)\n",
    "lancellotta_ext25.compute()"
   ]
  },
  {
   "cell_type": "markdown",
   "metadata": {},
   "source": [
    "## Plot Figure 8a"
   ]
  },
  {
   "cell_type": "code",
   "execution_count": null,
   "metadata": {
    "ExecuteTime": {
     "end_time": "2023-08-29T07:40:35.660456965Z",
     "start_time": "2023-08-29T07:40:34.981287756Z"
    }
   },
   "outputs": [],
   "source": [
    "fig, ax = plt.subplots()\n",
    "\n",
    "ax.plot(np.rad2deg(beta25), kin_sol_rf_all25.kan[BETA].max(axis=1), label='ROT', color=colors[0], zorder=8)\n",
    "ax.plot(np.rad2deg(beta25), kin_sol_t_all25.kan[BETA].max(axis=1), dashes=(3.3, 2.75), label='T', color=colors[2],\n",
    "        zorder=9)\n",
    "ax.plot(np.rad2deg(beta25), kin_sol_t_all25.kan_coulomb[BETA], ls='-.', label='Coulomb', color=colors[1], zorder=7)\n",
    "\n",
    "ax.plot(np.rad2deg(beta), kin_sol_rf_all30.kan[BETA].max(axis=1), label='_ROT', color=colors[0], zorder=8)\n",
    "ax.plot(np.rad2deg(beta), kin_sol_t_all30.kan[BETA].max(axis=1), dashes=(3.3, 2.75), label='_T', color=colors[2],\n",
    "        zorder=9)\n",
    "ax.plot(np.rad2deg(beta), kin_sol_t_all30.kan_coulomb[BETA], ls='-.', label='_Coulomb', color=colors[1], zorder=7)\n",
    "\n",
    "ax.plot(np.rad2deg(beta35), kin_sol_rf_all35.kan[BETA].max(axis=1), label='_ROT', color=colors[0], zorder=8)\n",
    "ax.plot(np.rad2deg(beta35), kin_sol_t_all35.kan[BETA].max(axis=1), dashes=(3.3, 2.75), label='_T', color=colors[2],\n",
    "        zorder=9)\n",
    "ax.plot(np.rad2deg(beta35), kin_sol_t_all35.kan_coulomb[BETA], ls='-.', label='_Coulomb', color=colors[1], zorder=7)\n",
    "\n",
    "ax.plot(np.rad2deg(beta40), kin_sol_rf_all40.kan[BETA].max(axis=1), label='_ROT', color=colors[0], zorder=8)\n",
    "ax.plot(np.rad2deg(beta40), kin_sol_t_all40.kan[BETA].max(axis=1), dashes=(3.3, 2.75), label='_T', color=colors[2],\n",
    "        zorder=9)\n",
    "ax.plot(np.rad2deg(beta40), kin_sol_t_all40.kan_coulomb[BETA], ls='-.', label='_Coulomb', color=colors[1], zorder=7)\n",
    "\n",
    "ax.set_ylim([0, 1.])\n",
    "ax.set_xlabel(\"Backfill inclination, $\\\\mathcal{\\\\beta}$: degrees\")\n",
    "ax.set_ylabel(\"Load coefficient, $\\\\widebar{K}_{\\\\mathrm{a}}$\")\n",
    "ax.set_zorder(1)\n",
    "ax.patch.set_visible(False)\n",
    "ax2 = ax.twinx()\n",
    "\n",
    "dr25 = 1e2 * np.divide(kin_sol_t_all25.kan_coulomb[BETA] - kin_sol_rf_all25.kan[BETA].max(axis=1),\n",
    "                       kin_sol_rf_all25.kan[BETA].max(axis=1))\n",
    "ax2.plot(np.rad2deg(beta25), dr25, color=colors[3], lw=0.5)\n",
    "dr30 = 1e2 * np.divide(kin_sol_t_all30.kan_coulomb[BETA] - kin_sol_rf_all30.kan[BETA].max(axis=1),\n",
    "                       kin_sol_rf_all30.kan[BETA].max(axis=1))\n",
    "ax2.plot(np.rad2deg(beta), dr30, color=colors[3], lw=0.5)\n",
    "dr35 = 1e2 * np.divide(kin_sol_t_all35.kan_coulomb[BETA] - kin_sol_rf_all35.kan[BETA].max(axis=1),\n",
    "                       kin_sol_rf_all35.kan[BETA].max(axis=1))\n",
    "ax2.plot(np.rad2deg(beta35), dr35, color=colors[3], lw=0.5)\n",
    "dr40 = 1e2 * np.divide(kin_sol_t_all40.kan_coulomb[BETA] - kin_sol_rf_all40.kan[BETA].max(axis=1),\n",
    "                       kin_sol_rf_all40.kan[BETA].max(axis=1))\n",
    "ax2.plot(np.rad2deg(beta40), dr40, color=colors[3], lw=0.5)\n",
    "ax2.yaxis.label.set_color(colors[3])\n",
    "ax.spines[\"right\"].set_edgecolor(colors[3])\n",
    "ax2.tick_params(axis='y', colors=colors[3])\n",
    "\n",
    "ax2.annotate(xy=(np.rad2deg(beta)[0], dr30.values[0]), xytext=(3.5, -9.5), color=colors[3], textcoords='offset points',\n",
    "             text=\"$\\\\mathcal{\\\\varphi}=30$\\N{degree sign}\", va='center', ha=\"right\", rotation=53)\n",
    "id_plot = 0\n",
    "ax2.annotate(xy=(np.rad2deg(beta35)[id_plot], dr35.values[id_plot]), color=colors[3], xytext=(3.5, -9.5),\n",
    "             textcoords='offset points', text=\"$\\\\mathcal{\\\\varphi}=35$\\N{degree sign}\", va='center', ha=\"right\",\n",
    "             rotation=49)\n",
    "ax2.annotate(xy=(np.rad2deg(beta40)[id_plot], dr40.values[id_plot]), color=colors[3], xytext=(-2.5, 3),\n",
    "             textcoords='offset points', text=\"$\\\\mathcal{\\\\varphi}=40$\\N{degree sign}\", va='bottom', ha=\"left\",\n",
    "             rotation=43)\n",
    "id_plot = 0\n",
    "ax2.annotate(xy=(np.rad2deg(beta25)[id_plot], dr25.values[id_plot]), color=colors[3], xytext=(3.5, -11),\n",
    "             textcoords='offset points', text=\"$\\\\mathcal{\\\\varphi}=25$\\N{degree sign}\", va='center', ha=\"right\",\n",
    "             rotation=58)\n",
    "\n",
    "ax.annotate(xy=(np.rad2deg(beta)[-1], kin_sol_rf_all30.kan[BETA].max(axis=1).values[-1]), xytext=(0, 3),\n",
    "            textcoords='offset points', text=\"$\\\\mathcal{\\\\varphi}=30$\\N{degree sign}\", va='bottom', ha=\"center\",\n",
    "            rotation=88)\n",
    "ax.annotate(xy=(np.rad2deg(beta25)[-1], kin_sol_rf_all25.kan[BETA].max(axis=1).values[-1]), xytext=(0, 3),\n",
    "            textcoords='offset points', text=\"$\\\\mathcal{\\\\varphi}=25$\\N{degree sign}\", va='bottom', ha=\"center\",\n",
    "            rotation=88)\n",
    "\n",
    "ax.annotate(xy=(np.rad2deg(beta35)[-1], kin_sol_rf_all35.kan[BETA].max(axis=1).values[-1]), xytext=(0, 3),\n",
    "            textcoords='offset points', text=\"$\\\\mathcal{\\\\varphi}=35$\\N{degree sign}\", va='bottom', ha=\"center\",\n",
    "            rotation=88)\n",
    "_, id_plot = find_nearest(beta40, math.radians(23))\n",
    "id_plot = -1\n",
    "ax.annotate(xy=(np.rad2deg(beta40)[id_plot], kin_sol_rf_all40.kan[BETA].max(axis=1).values[id_plot]), xytext=(0, 3),\n",
    "            textcoords='offset points', text=\"$\\\\mathcal{\\\\varphi}=40$\\N{degree sign}\", va='bottom', ha=\"center\",\n",
    "            rotation=88)\n",
    "\n",
    "ax2.grid(False)\n",
    "ax2.set_ylim([-4, .1])\n",
    "ax2.set_ylabel(\"Relative difference (Coulomb$-$ROT), $d_r$: %\")\n",
    "_ = ax.legend()\n",
    "fig.savefig(out_dir + \"Fig8a\")\n",
    "_ = ax.set_title(\n",
    "    \"ROT vs T ($\\\\alpha=${:.1f}\\N{degree sign}, $\\\\delta=${:.1f}\\N{degree sign}, $\\\\varphi={:.0f}^\\circ$)\".format(\n",
    "        math.degrees(alpha), math.degrees(delta), math.degrees(phi)))\n",
    "fig.tight_layout()"
   ]
  },
  {
   "cell_type": "markdown",
   "metadata": {},
   "source": [
    "## Variable wall inclination"
   ]
  },
  {
   "cell_type": "markdown",
   "metadata": {},
   "source": [
    "$$\\alpha=25^\\circ, \\,\\varphi=30^\\circ, \\,\\delta=2/3\\varphi,\\, \\beta=\\text{var.}$$"
   ]
  },
  {
   "cell_type": "code",
   "execution_count": null,
   "metadata": {
    "ExecuteTime": {
     "end_time": "2023-08-29T07:40:35.692789568Z",
     "start_time": "2023-08-29T07:40:35.682013434Z"
    },
    "collapsed": false
   },
   "outputs": [],
   "source": [
    "phi = math.radians(30)\n",
    "delta = 2. / 3. * phi\n",
    "alpha = math.radians(-25)"
   ]
  },
  {
   "cell_type": "code",
   "execution_count": null,
   "metadata": {
    "ExecuteTime": {
     "end_time": "2023-08-29T07:46:55.949277713Z",
     "start_time": "2023-08-29T07:40:35.682715909Z"
    },
    "collapsed": false
   },
   "outputs": [],
   "source": [
    "params = {PHI: phi, ALPHA: alpha, BETA: beta, DELTA: delta}\n",
    "\n",
    "kin_sol_rf_allan25 = kis.KinematicSolution([ONE_WEDGE, TWO_WEDGES, EXT_ONE_WEDGE], params, \"RF\")\n",
    "kin_sol_rf_allan25.set_var_parameter(BETA)\n",
    "kin_sol_t_allan25 = kis.KinematicSolution([ONE_WEDGE, TWO_WEDGES, EXT_ONE_WEDGE], params, \"T\")\n",
    "kin_sol_t_allan25.set_var_parameter(BETA)\n",
    "\n",
    "with io.capture_output() as captured:\n",
    "    kin_sol_rf_allan25.optimize()\n",
    "    kin_sol_t_allan25.optimize()"
   ]
  },
  {
   "cell_type": "markdown",
   "metadata": {},
   "source": [
    "$$\\alpha=-25^\\circ, \\,\\varphi=30^\\circ, \\,\\delta=2/3\\varphi,\\, \\beta=\\text{var.}$$"
   ]
  },
  {
   "cell_type": "code",
   "execution_count": null,
   "metadata": {
    "ExecuteTime": {
     "end_time": "2023-08-29T07:46:55.951624103Z",
     "start_time": "2023-08-29T07:46:55.949112636Z"
    },
    "collapsed": false
   },
   "outputs": [],
   "source": [
    "alpha = math.radians(25)"
   ]
  },
  {
   "cell_type": "code",
   "execution_count": null,
   "metadata": {
    "ExecuteTime": {
     "end_time": "2023-08-29T07:52:27.121318865Z",
     "start_time": "2023-08-29T07:46:55.949467139Z"
    },
    "collapsed": false
   },
   "outputs": [],
   "source": [
    "params = {PHI: phi, ALPHA: alpha, BETA: beta, DELTA: delta}\n",
    "\n",
    "kin_sol_rf_alla25 = kis.KinematicSolution([ONE_WEDGE, TWO_WEDGES, EXT_ONE_WEDGE], params, \"RF\")\n",
    "kin_sol_rf_alla25.set_var_parameter(BETA)\n",
    "kin_sol_t_alla25 = kis.KinematicSolution([ONE_WEDGE, TWO_WEDGES, EXT_ONE_WEDGE], params, \"T\")\n",
    "kin_sol_t_alla25.set_var_parameter(BETA)\n",
    "\n",
    "with io.capture_output() as captured:\n",
    "    kin_sol_rf_alla25.optimize()\n",
    "    kin_sol_t_alla25.optimize()"
   ]
  },
  {
   "cell_type": "markdown",
   "metadata": {},
   "source": [
    "## Plot Figure 8b"
   ]
  },
  {
   "cell_type": "code",
   "execution_count": null,
   "metadata": {
    "ExecuteTime": {
     "end_time": "2023-08-29T07:52:27.684349467Z",
     "start_time": "2023-08-29T07:52:27.121179287Z"
    },
    "collapsed": false
   },
   "outputs": [],
   "source": [
    "fig, ax = plt.subplots()\n",
    "\n",
    "ax.plot(np.rad2deg(beta), kin_sol_rf_allan25.kan[BETA].max(axis=1) / np.cos(kin_sol_rf_allan25.params[ALPHA]),\n",
    "        label='ROT', color=colors[0], zorder=8)\n",
    "ax.plot(np.rad2deg(beta), kin_sol_t_allan25.kan[BETA].max(axis=1) / np.cos(kin_sol_t_allan25.params[ALPHA]), ls='--',\n",
    "        dashes=(2., 2.), label='T', color=colors[2], zorder=9)\n",
    "ax.plot(np.rad2deg(beta), kin_sol_t_allan25.kan_coulomb[BETA] / np.cos(kin_sol_t_allan25.params[ALPHA]), ls='-.',\n",
    "        label='Coulomb', color=colors[1], zorder=7)\n",
    "\n",
    "ax.plot(np.rad2deg(beta), kin_sol_rf_all30.kan[BETA].max(axis=1) / np.cos(kin_sol_rf_all30.params[ALPHA]), label='_ROT',\n",
    "        color=colors[0], zorder=8)\n",
    "ax.plot(np.rad2deg(beta), kin_sol_t_all30.kan[BETA].max(axis=1) / np.cos(kin_sol_t_all30.params[ALPHA]), ls='--',\n",
    "        dashes=(2., 2.), label='_T', color=colors[2], zorder=9)\n",
    "ax.plot(np.rad2deg(beta), kin_sol_t_all30.kan_coulomb[BETA] / np.cos(kin_sol_t_all30.params[ALPHA]), ls='-.',\n",
    "        label='_Coulomb', color=colors[1], zorder=7)\n",
    "\n",
    "ax.plot(np.rad2deg(beta), kin_sol_rf_alla25.kan[BETA].max(axis=1) / np.cos(kin_sol_rf_alla25.params[ALPHA]),\n",
    "        label='_ROT', color=colors[0], zorder=8)\n",
    "ax.plot(np.rad2deg(beta), kin_sol_t_alla25.kan[BETA].max(axis=1) / np.cos(kin_sol_t_alla25.params[ALPHA]), ls='--',\n",
    "        dashes=(2., 2.), label='_T', color=colors[2], zorder=9)\n",
    "ax.plot(np.rad2deg(beta), kin_sol_t_alla25.kan_coulomb[BETA] / np.cos(kin_sol_t_alla25.params[ALPHA]), ls='-.',\n",
    "        label='_Coulomb', color=colors[1], zorder=7)\n",
    "\n",
    "ax.set_ylim(bottom=0, top=1.8)\n",
    "ax.set_xlabel(\"Backfill inclination, $\\\\mathcal{\\\\beta}$: degrees\")\n",
    "ax.set_ylabel(\"Load coefficient, $\\\\widebar{K}_{\\\\mathrm{a}}$\")\n",
    "ax.set_zorder(1)\n",
    "ax.patch.set_visible(False)\n",
    "ax2 = ax.twinx()\n",
    "\n",
    "dran25 = 1e2 * np.divide(kin_sol_t_allan25.kan_coulomb[BETA] - kin_sol_rf_allan25.kan[BETA].max(axis=1),\n",
    "                         kin_sol_rf_allan25.kan[BETA].max(axis=1))\n",
    "ax2.plot(np.rad2deg(beta), dran25, color=colors[3], zorder=5, lw=0.5)\n",
    "dr30 = 1e2 * np.divide(kin_sol_t_all30.kan_coulomb[BETA] - kin_sol_rf_all30.kan[BETA].max(axis=1),\n",
    "                       kin_sol_rf_all30.kan[BETA].max(axis=1))\n",
    "ax2.plot(np.rad2deg(beta), dr30, color=colors[3], zorder=5, lw=0.5)\n",
    "dra25 = 1e2 * np.divide(kin_sol_t_alla25.kan_coulomb[BETA] - kin_sol_rf_alla25.kan[BETA].max(axis=1),\n",
    "                        kin_sol_rf_alla25.kan[BETA].max(axis=1))\n",
    "ax2.plot(np.rad2deg(beta), dra25, color=colors[3], zorder=5, lw=0.5)\n",
    "ax2.yaxis.label.set_color(colors[3])\n",
    "ax.spines[\"right\"].set_edgecolor(colors[3])\n",
    "ax2.tick_params(axis='y', colors=colors[3])\n",
    "\n",
    "ax2.annotate(xy=(np.rad2deg(beta)[0], dra25.values[0]), color=colors[3], xytext=(1, 0), textcoords='offset points',\n",
    "             text=\"$\\\\mathcal{\\\\alpha}=-25$\\N{degree sign}\", va='top', ha=\"left\")\n",
    "_, id_plot = find_nearest(beta, math.radians(-23))\n",
    "ax2.annotate(xy=(np.rad2deg(beta)[0], dr30.values[0]), color=colors[3], xytext=(1, 2), textcoords='offset points',\n",
    "             text=\"$\\\\mathcal{\\\\alpha}=0$\\N{degree sign}\", va='top', ha=\"left\", rotation=14)\n",
    "id_plot = 0\n",
    "ax2.annotate(xy=(np.rad2deg(beta)[id_plot], dran25.values[id_plot]), color=colors[3], xytext=(1, 2),\n",
    "             textcoords='offset points', text=\"$\\\\mathcal{\\\\alpha}=25$\\N{degree sign}\", va='bottom', ha=\"left\",\n",
    "             rotation=3)\n",
    "\n",
    "ax.annotate(xy=(np.rad2deg(beta)[0], kin_sol_rf_all30.kan[BETA].max(axis=1).values[0]), xytext=(0, 1),\n",
    "            textcoords='offset points', text=\"$\\\\mathcal{\\\\alpha}=0$\\N{degree sign}\", va='bottom', ha=\"left\",\n",
    "            rotation=4)\n",
    "ax.annotate(xy=(np.rad2deg(beta)[0], kin_sol_rf_alla25.kan[BETA].max(axis=1).values[0]), xytext=(0, 5),\n",
    "            textcoords='offset points', text=\"$\\\\mathcal{\\\\alpha}=-25$\\N{degree sign}\", va='bottom', ha=\"left\",\n",
    "            rotation=16)\n",
    "\n",
    "_, id_plot = find_nearest(beta, math.radians(23))\n",
    "id_plot = 0\n",
    "ax.annotate(xy=(np.rad2deg(beta)[id_plot], kin_sol_rf_allan25.kan[BETA].max(axis=1).values[id_plot]), xytext=(0, -2),\n",
    "            textcoords='offset points', text=\"$\\\\mathcal{\\\\alpha}=25$\\N{degree sign}\", va='top', ha=\"left\",\n",
    "            rotation=0.25)\n",
    "\n",
    "ax2.grid(False)\n",
    "ax2.set_ylim(bottom=-12)\n",
    "ax2.set_ylabel(\"Relative difference (Coulomb$-$ROT), $d_r$: %\")\n",
    "_ = ax.legend(loc=6)\n",
    "fig.savefig(out_dir + \"Fig8b\")\n",
    "_ = ax.set_title(\n",
    "    \"ROT vs T ($\\\\alpha=${:.1f}\\N{degree sign}, $\\\\delta=${:.1f}\\N{degree sign}, $\\\\varphi={:.0f}^\\circ$)\".format(\n",
    "        math.degrees(alpha), math.degrees(delta), math.degrees(phi)))\n",
    "fig.tight_layout()"
   ]
  },
  {
   "cell_type": "markdown",
   "metadata": {},
   "source": [
    "## Plot Figure 9a"
   ]
  },
  {
   "cell_type": "markdown",
   "metadata": {},
   "source": [
    "$$\\alpha=\\{-25^\\circ,0^\\circ,25^\\circ\\}, \\,\\varphi=30^\\circ, \\,\\delta=2/3\\varphi,\\, \\beta=25^\\circ$$"
   ]
  },
  {
   "cell_type": "markdown",
   "metadata": {},
   "source": [
    "Without consideration of ext. one wedge"
   ]
  },
  {
   "cell_type": "code",
   "execution_count": null,
   "metadata": {
    "ExecuteTime": {
     "end_time": "2023-08-29T07:52:30.764522810Z",
     "start_time": "2023-08-29T07:52:27.681443262Z"
    },
    "collapsed": false
   },
   "outputs": [],
   "source": [
    "params = {PHI: math.radians(30), ALPHA: np.deg2rad([-25, 0, 25]), BETA: math.radians(25), DELTA: math.radians(20)}\n",
    "kin_sol_rf = kis.KinematicSolution([ONE_WEDGE, TWO_WEDGES], params, \"RF\")\n",
    "kin_sol_t = kis.KinematicSolution([ONE_WEDGE, TWO_WEDGES], params, \"T\")\n",
    "kin_sol_rf.set_parameters(params)\n",
    "kin_sol_rf.set_var_parameter(ALPHA)\n",
    "kin_sol_t.set_parameters(params)\n",
    "kin_sol_t.set_var_parameter(ALPHA)\n",
    "\n",
    "kin_sol_t.optimize()\n",
    "\n",
    "plot_kwargs = [\n",
    "    {\"plot_backfill\": True, \"plot_wall\": True, \"color\": colors[0], \"ls\": \"-\"},\n",
    "    {\"plot_backfill\": True, \"plot_wall\": True, \"color\": colors[0], \"ls\": \"-\"},\n",
    "    {\"plot_backfill\": True, \"plot_wall\": True, \"color\": colors[0], \"ls\": \"-\"}\n",
    "]\n",
    "plot_kwargs_t = [\n",
    "    {\"plot_backfill\": True, \"plot_wall\": True, \"color\": colors[2], \"ls\": \"--\"},\n",
    "    {\"plot_backfill\": True, \"plot_wall\": True, \"color\": colors[2], \"ls\": \"--\"},\n",
    "    {\"plot_backfill\": True, \"plot_wall\": True, \"color\": colors[2], \"ls\": \"--\"}\n",
    "]\n",
    "plot_vals = np.deg2rad([-25, 0, 25])\n",
    "\n",
    "fig, ax = kin_sol_rf.optimize(None, plot_vals, plot_kwargs)\n",
    "kin_sol_t.optimize(ax, plot_vals, plot_kwargs_t)\n",
    "\n",
    "all_lines = ax.get_lines()\n",
    "lines_with_label = [line for line in all_lines if line.get_label()[0] != \"_\"]\n",
    "\n",
    "lines_with_label[0].set_label(\"$\\\\mathcal{\\\\alpha}=25$\\N{degree sign}\")\n",
    "lines_with_label[1].set_label(\"$\\\\mathcal{\\\\alpha}=0$\\N{degree sign}\")\n",
    "lines_with_label[2].set_label(\"$\\\\mathcal{\\\\alpha}=-25$\\N{degree sign}\")\n",
    "\n",
    "# plt.figlegend(handles=lines_with_label[:3],ncol=3, loc=\"upper center\")\n",
    "ax.legend(handles=[lines_with_label[1], lines_with_label[4]], labels=[\"ROT\", \"T\"], loc=\"upper center\", ncol=2)\n",
    "\n",
    "ax.set_axis_off()\n",
    "fig.savefig(out_dir + \"Fig9a\", bbox_inches=\"tight\")"
   ]
  },
  {
   "cell_type": "markdown",
   "metadata": {},
   "source": [
    "## Plot Figure 9b"
   ]
  },
  {
   "cell_type": "markdown",
   "metadata": {},
   "source": [
    "Same as before, but now we consider the extended one wedge"
   ]
  },
  {
   "cell_type": "code",
   "execution_count": null,
   "metadata": {
    "ExecuteTime": {
     "end_time": "2023-08-29T07:52:31.840035467Z",
     "start_time": "2023-08-29T07:52:30.777118627Z"
    },
    "collapsed": false
   },
   "outputs": [],
   "source": [
    "params = {PHI: math.radians(30), ALPHA: np.deg2rad([25]), BETA: math.radians(25), DELTA: math.radians(20)}\n",
    "\n",
    "kin_sol_rf_2 = kis.KinematicSolution([ONE_WEDGE, EXT_ONE_WEDGE], params, \"RF\")\n",
    "kin_sol_rf_2.set_var_parameter(ALPHA)\n",
    "kin_sol_t_2 = kis.KinematicSolution([ONE_WEDGE, EXT_ONE_WEDGE], params, \"T\")\n",
    "kin_sol_t_2.set_var_parameter(ALPHA)\n",
    "\n",
    "plot_kwargs = [\n",
    "    {\"plot_backfill\": True, \"plot_wall\": True, \"ls\": \"-\"}\n",
    "]\n",
    "plot_kwargs_t = [\n",
    "    {\"plot_backfill\": True, \"plot_wall\": True, \"color\": colors[2], \"ls\": \"--\"}\n",
    "]\n",
    "plot_vals = np.deg2rad([25])\n",
    "\n",
    "fig, ax = kin_sol_rf_2.optimize(None, plot_vals, plot_kwargs)\n",
    "_, ax = kin_sol_t_2.optimize(ax, plot_vals, plot_kwargs_t)\n",
    "\n",
    "all_lines = ax.get_lines()\n",
    "lines_with_label = [line for line in all_lines if line.get_label()[0] != \"_\"]\n",
    "\n",
    "ax.legend(handles=[lines_with_label[0], lines_with_label[1]], labels=[\"ROT\", \"T\"], loc=\"upper center\", ncol=2)\n",
    "\n",
    "ax.set_axis_off()\n",
    "fig.savefig(out_dir + \"Fig9b\", bbox_inches=\"tight\")"
   ]
  },
  {
   "cell_type": "markdown",
   "metadata": {},
   "source": [
    "### Optum"
   ]
  },
  {
   "cell_type": "code",
   "execution_count": null,
   "metadata": {
    "ExecuteTime": {
     "end_time": "2023-08-29T07:52:32.167405101Z",
     "start_time": "2023-08-29T07:52:31.848722762Z"
    },
    "collapsed": false
   },
   "outputs": [],
   "source": [
    "par = BETA\n",
    "fig, ax = plt.subplots()"
   ]
  },
  {
   "cell_type": "markdown",
   "metadata": {},
   "source": [
    "$$\\alpha=0^\\circ, \\,\\varphi=30^\\circ, \\,\\delta=2/3\\varphi,\\, \\beta=\\text{var.}$$"
   ]
  },
  {
   "cell_type": "code",
   "execution_count": null,
   "metadata": {
    "ExecuteTime": {
     "end_time": "2023-08-29T07:52:32.167973593Z",
     "start_time": "2023-08-29T07:52:32.056511152Z"
    },
    "collapsed": false
   },
   "outputs": [],
   "source": [
    "gamma_optum = 6.\n",
    "phi_optum = math.radians(30.)\n",
    "delta_optum = math.radians(20.)\n",
    "alpha_optum = 0.\n",
    "beta_optum = np.deg2rad(np.linspace(-25, 25, 11))\n",
    "static_optum = np.array(\n",
    "    [-2.262e-1, -2.353E-01, -2.451E-01, -2.557E-01, -2.680E-01, -2.821E-01, -2.990E-01, -3.199E-01, -3.484E-01,\n",
    "     -3.888E-01, -4.588E-01])\n",
    "kinematic_optum = np.array(\n",
    "    [-2.260E-01, -2.350E-01, -2.448E-01, -2.554E-01, -2.678E-01, -2.819E-01, -2.988E-01, -3.197E-01, -3.481E-01,\n",
    "     -3.886E-01, -4.582E-01])\n",
    "\n",
    "beta = np.deg2rad(np.linspace(-30, 30, 61 * factor_vec_length))\n",
    "lancellotta_ext30 = sts.LancellottaExtended()\n",
    "lancellotta_ext30.set_parameters(phi_optum, delta_optum, alpha_optum, beta)\n",
    "lancellotta_ext30.compute()\n",
    "\n",
    "owedge = mec.OneWedge(\"RF\")\n",
    "\n",
    "owedge.set_parameters(phi_optum, delta_optum, alpha_optum, 0., gamma_optum)\n",
    "owedge.optimize()\n",
    "\n",
    "optum_kan_kin = []\n",
    "optum_kan_stat = []\n",
    "\n",
    "for i, (statsol, kinsol) in enumerate(zip(static_optum, kinematic_optum)):\n",
    "    owedge.set_parameter_by_name(BETA, beta_optum[i])\n",
    "    owedge.optimize_result.fun = statsol\n",
    "    optum_kan_stat.append(owedge.kan)\n",
    "    owedge.optimize_result.fun = kinsol\n",
    "    optum_kan_kin.append(owedge.kan)\n",
    "\n",
    "optum_kan_kin = np.array(optum_kan_kin)\n",
    "optum_kan_stat = np.array(optum_kan_stat)\n",
    "avg_optum = 0.5 * (optum_kan_kin + optum_kan_stat)\n",
    "\n",
    "mask_beta = np.searchsorted(beta, beta_optum)\n",
    "\n",
    "ax.plot(np.rad2deg(kin_sol_rf_all30.params[par]), kin_sol_rf_all30.kan[par].max(axis=1), color='k', lw=0.6,\n",
    "        label=\"Kinematic sol.\")\n",
    "ax.plot(np.rad2deg(lancellotta_ext30.params[par]), lancellotta_ext30.k_n_norm, label='Ext. Lancellotta', color='k',\n",
    "        lw=0.6, ls=\"--\")\n",
    "pat = ax.fill_between(np.rad2deg(kin_sol_rf_all30.params[par]), lancellotta_ext30.k_n_norm,\n",
    "                      kin_sol_rf_all30.kan[par].max(axis=1), facecolor=\"#b2b2b2\", edgecolor=\"#b2b2b2\",\n",
    "                      label=\"_This work\")\n",
    "reldiff = np.divide(kin_sol_rf_all30.kan[par].max(axis=1).values[mask_beta] - optum_kan_stat, optum_kan_stat)\n",
    "print(reldiff * 1e2)\n",
    "ax.annotate(xy=(np.rad2deg(beta)[-1], kin_sol_rf_all30.kan[par].max(axis=1).values[-1]), xytext=(0, 6),\n",
    "            textcoords='offset points', text=\"$\\\\mathcal{\\\\alpha}=0$\\N{degree sign}\", va='bottom', ha=\"center\",\n",
    "            rotation=85)\n",
    "ax.plot(np.rad2deg(beta_optum), optum_kan_stat, color=colors[1], marker='.', markersize=5, label=\"FELA (static sol.)\",\n",
    "        ls=\":\", lw=0.)"
   ]
  },
  {
   "cell_type": "markdown",
   "metadata": {},
   "source": [
    "$$\\alpha=25^\\circ, \\,\\varphi=30^\\circ, \\,\\delta=2/3\\varphi,\\, \\beta=\\text{var.}$$"
   ]
  },
  {
   "cell_type": "code",
   "execution_count": null,
   "metadata": {
    "ExecuteTime": {
     "end_time": "2023-08-29T07:52:32.536448057Z",
     "start_time": "2023-08-29T07:52:32.141378092Z"
    },
    "collapsed": false
   },
   "outputs": [],
   "source": [
    "gamma_optum = 6.\n",
    "phi_optum = math.radians(30.)\n",
    "delta_optum = math.radians(20.)\n",
    "alpha_optum = -math.radians(25.)\n",
    "beta_optum = np.deg2rad(np.linspace(-25, 25, 11))\n",
    "static_optum = -np.array([.161, .163, .166, .170, .174, .179, .185, .193, .204, .221, .253])\n",
    "\n",
    "beta = np.deg2rad(np.linspace(-30, 30, 61 * factor_vec_length))\n",
    "lancellotta_ext30 = sts.LancellottaExtended()\n",
    "lancellotta_ext30.set_parameters(phi_optum, delta_optum, alpha_optum, beta)\n",
    "lancellotta_ext30.compute()\n",
    "\n",
    "owedge = mec.OneWedge(\"RF\")\n",
    "\n",
    "owedge.set_parameters(phi_optum, delta_optum, alpha_optum, 0., gamma_optum)\n",
    "owedge.optimize()\n",
    "\n",
    "optum_kan_kin = []\n",
    "optum_kan_stat = []\n",
    "\n",
    "for i, (statsol, kinsol) in enumerate(zip(static_optum, kinematic_optum)):\n",
    "    owedge.set_parameter_by_name(BETA, beta_optum[i])\n",
    "    owedge.optimize_result.fun = statsol\n",
    "    optum_kan_stat.append(owedge.kan)\n",
    "    owedge.optimize_result.fun = kinsol\n",
    "    optum_kan_kin.append(owedge.kan)\n",
    "\n",
    "optum_kan_kin = np.array(optum_kan_kin)\n",
    "optum_kan_stat = np.array(optum_kan_stat)\n",
    "avg_optum = 0.5 * (optum_kan_kin + optum_kan_stat)\n",
    "\n",
    "mask_beta = np.searchsorted(beta, beta_optum)\n",
    "\n",
    "ax.plot(np.rad2deg(kin_sol_rf_allan25.params[par]), kin_sol_rf_allan25.kan[par].max(axis=1), color='k', lw=0.6)\n",
    "ax.plot(np.rad2deg(lancellotta_ext30.params[par]), lancellotta_ext30.k_n_norm, color='k', lw=0.6, ls=\"--\")\n",
    "pat = ax.fill_between(np.rad2deg(kin_sol_rf_allan25.params[par]), lancellotta_ext30.k_n_norm,\n",
    "                      kin_sol_rf_allan25.kan[par].max(axis=1), facecolor=\"#b2b2b2\", edgecolor=\"#b2b2b2\")\n",
    "\n",
    "reldiff = np.divide(kin_sol_rf_allan25.kan[par].max(axis=1).values[mask_beta] - optum_kan_stat, optum_kan_stat)\n",
    "print(reldiff * 100)\n",
    "\n",
    "ax.annotate(xy=(np.rad2deg(beta)[-1], kin_sol_rf_allan25.kan[par].max(axis=1).values[-1]), xytext=(0, 3),\n",
    "            textcoords='offset points', text=\"$\\\\mathcal{\\\\alpha}=25$\\N{degree sign}\", va='bottom', ha=\"center\",\n",
    "            rotation=85)\n",
    "\n",
    "ax.plot(np.rad2deg(beta_optum), optum_kan_stat, color=colors[1], marker='.', markersize=5, ls=\":\", lw=0.)"
   ]
  },
  {
   "cell_type": "markdown",
   "metadata": {},
   "source": [
    "$$\\alpha=25^\\circ, \\,\\varphi=30^\\circ, \\,\\delta=2/3\\varphi,\\, \\beta=\\text{var.}$$"
   ]
  },
  {
   "cell_type": "code",
   "execution_count": null,
   "metadata": {
    "ExecuteTime": {
     "end_time": "2023-08-29T07:52:32.547943299Z",
     "start_time": "2023-08-29T07:52:32.189374046Z"
    },
    "collapsed": false
   },
   "outputs": [],
   "source": [
    "gamma_optum = 6.\n",
    "phi_optum = math.radians(30.)\n",
    "delta_optum = math.radians(20.)\n",
    "alpha_optum = math.radians(25.)\n",
    "beta_optum = np.deg2rad(np.linspace(-25, 25, 11))\n",
    "static_optum = -np.array([0.374, 0.407, 0.443, 0.481, 0.523, 0.570, 0.625, 0.692, 0.777, 0.894, 1.085])\n",
    "\n",
    "beta = np.deg2rad(np.linspace(-30, 30, 61 * factor_vec_length))\n",
    "lancellotta_ext30 = sts.LancellottaExtended()\n",
    "lancellotta_ext30.set_parameters(phi_optum, delta_optum, alpha_optum, beta)\n",
    "lancellotta_ext30.compute()\n",
    "\n",
    "owedge = mec.OneWedge(\"RF\")\n",
    "\n",
    "owedge.set_parameters(phi_optum, delta_optum, alpha_optum, 0., gamma_optum)\n",
    "owedge.optimize()\n",
    "\n",
    "optum_kan_kin = []\n",
    "optum_kan_stat = []\n",
    "\n",
    "for i, (statsol, kinsol) in enumerate(zip(static_optum, kinematic_optum)):\n",
    "    owedge.set_parameter_by_name(BETA, beta_optum[i])\n",
    "    owedge.optimize_result.fun = statsol\n",
    "    optum_kan_stat.append(owedge.kan)\n",
    "    owedge.optimize_result.fun = kinsol\n",
    "    optum_kan_kin.append(owedge.kan)\n",
    "\n",
    "optum_kan_kin = np.array(optum_kan_kin)\n",
    "optum_kan_stat = np.array(optum_kan_stat)\n",
    "avg_optum = 0.5 * (optum_kan_kin + optum_kan_stat)\n",
    "\n",
    "mask_beta = np.searchsorted(beta, beta_optum)\n",
    "\n",
    "ax.plot(np.rad2deg(kin_sol_rf_alla25.params[par]), kin_sol_rf_alla25.kan[par].max(axis=1), color='k', lw=0.6)\n",
    "ax.plot(np.rad2deg(lancellotta_ext30.params[par]), lancellotta_ext30.k_n_norm, color='k', lw=0.6, ls=\"--\")\n",
    "pat = ax.fill_between(np.rad2deg(kin_sol_rf_alla25.params[par]), lancellotta_ext30.k_n_norm,\n",
    "                      kin_sol_rf_alla25.kan[par].max(axis=1), facecolor=\"#b2b2b2\", edgecolor=\"#b2b2b2\")\n",
    "\n",
    "reldiff = np.divide(kin_sol_rf_alla25.kan[par].max(axis=1).values[mask_beta] - optum_kan_stat, optum_kan_stat)\n",
    "print(reldiff * 100)\n",
    "\n",
    "ax.annotate(xy=(np.rad2deg(beta)[1], kin_sol_rf_alla25.kan[par].max(axis=1).values[1]), xytext=(0, 3),\n",
    "            textcoords='offset points', text=\"$\\\\mathcal{\\\\alpha}=-25$\\N{degree sign}\", va='bottom', ha=\"left\",\n",
    "            rotation=19)\n",
    "\n",
    "ax.plot(np.rad2deg(beta_optum), optum_kan_stat, color=colors[1], marker='.', markersize=5, ls=\":\", lw=0.)"
   ]
  },
  {
   "cell_type": "markdown",
   "metadata": {},
   "source": [
    "## Plot Figure 7"
   ]
  },
  {
   "cell_type": "code",
   "execution_count": null,
   "metadata": {
    "ExecuteTime": {
     "end_time": "2023-08-29T07:52:32.715847794Z",
     "start_time": "2023-08-29T07:52:32.237901226Z"
    },
    "collapsed": false
   },
   "outputs": [],
   "source": [
    "ax.set_ylim(top=1.2)\n",
    "ax.legend()\n",
    "fig.savefig(out_dir + \"Fig7\", bbox_inches=\"tight\")\n",
    "fig.tight_layout()\n",
    "plt.show()"
   ]
  },
  {
   "cell_type": "markdown",
   "metadata": {},
   "source": [
    "## Experimental validation"
   ]
  },
  {
   "cell_type": "markdown",
   "metadata": {},
   "source": [
    "### Fang and Ishibashi (1986)"
   ]
  },
  {
   "cell_type": "code",
   "execution_count": null,
   "metadata": {
    "ExecuteTime": {
     "end_time": "2023-08-29T07:52:33.057910264Z",
     "start_time": "2023-08-29T07:52:32.732940643Z"
    },
    "collapsed": false
   },
   "outputs": [],
   "source": [
    "params = {PHI: math.radians(33.4), ALPHA: 0., BETA: np.array([0.]), DELTA: math.radians(23.8)}\n",
    "\n",
    "kin_sol_rf_fi = kis.KinematicSolution([ONE_WEDGE, TWO_WEDGES, EXT_ONE_WEDGE], params, \"RF\")\n",
    "kin_sol_rf_fi.set_var_parameter(BETA)\n",
    "kin_sol_rf_fi.optimize()\n",
    "print(kin_sol_rf_fi.kan[BETA].max(axis=1))"
   ]
  },
  {
   "cell_type": "markdown",
   "metadata": {},
   "source": [
    "### Perozzi (2022)"
   ]
  },
  {
   "cell_type": "code",
   "execution_count": null,
   "metadata": {
    "ExecuteTime": {
     "end_time": "2023-08-29T07:52:33.409093378Z",
     "start_time": "2023-08-29T07:52:32.969371876Z"
    },
    "collapsed": false
   },
   "outputs": [],
   "source": [
    "params = {PHI: np.deg2rad([37.0, 52.0]), ALPHA: 0., BETA: 0., DELTA: math.radians(22.0)}\n",
    "\n",
    "kin_sol_rf_fi = kis.KinematicSolution([ONE_WEDGE, TWO_WEDGES, EXT_ONE_WEDGE], params, \"RF\")\n",
    "kin_sol_rf_fi.set_var_parameter(PHI)\n",
    "kin_sol_rf_fi.optimize()\n",
    "print(kin_sol_rf_fi.kan[PHI].max(axis=1))"
   ]
  },
  {
   "cell_type": "markdown",
   "metadata": {},
   "source": [
    "## Appendix: earth pressure table"
   ]
  },
  {
   "cell_type": "code",
   "execution_count": null,
   "metadata": {
    "ExecuteTime": {
     "end_time": "2023-08-29T15:00:47.212366758Z",
     "start_time": "2023-08-29T15:00:47.154094636Z"
    },
    "collapsed": false
   },
   "outputs": [],
   "source": [
    "phi_values = np.arange(25., 41., 5)\n",
    "\n",
    "alpha_list = []\n",
    "beta_list = []\n",
    "delta_list = []\n",
    "phi_list = []\n",
    "\n",
    "for phi in phi_values:\n",
    "    beta_values = np.arange(-10., phi + 1., 10.)\n",
    "\n",
    "    for beta in beta_values:\n",
    "        alpha_values = np.arange(-20., 21., 10)\n",
    "        # Generate delta array with a constant value of two-thirds of phi\n",
    "        delta_values = np.full_like(alpha_values, 2 * phi / 3)\n",
    "        # Generate phi array with a constant value of phi\n",
    "        phi_values_constant = np.full_like(alpha_values, phi)\n",
    "\n",
    "        alpha_list.extend(alpha_values)\n",
    "        beta_list.extend([beta] * len(alpha_values))\n",
    "        delta_list.extend(delta_values)\n",
    "        phi_list.extend(phi_values_constant)\n",
    "\n",
    "alpha_array = np.deg2rad(np.array(alpha_list))\n",
    "beta_array = np.deg2rad(np.array(beta_list))\n",
    "delta_array = np.deg2rad(np.array(delta_list))\n",
    "phi_array = np.deg2rad(np.array(phi_list))"
   ]
  },
  {
   "cell_type": "code",
   "execution_count": null,
   "metadata": {
    "ExecuteTime": {
     "end_time": "2023-08-29T15:01:17.461858018Z",
     "start_time": "2023-08-29T15:00:47.869322177Z"
    },
    "collapsed": false
   },
   "outputs": [],
   "source": [
    "params = {PHI: phi_array, ALPHA: alpha_array, BETA: beta_array, DELTA: delta_array}\n",
    "\n",
    "kin_sol_table = kis.KinematicSolution([ONE_WEDGE, TWO_WEDGES, EXT_ONE_WEDGE], params, \"RF\")\n",
    "kin_sol_table.set_var_parameter(PHI)\n",
    "kin_sol_table.set_secondary_var_parameters([ALPHA, BETA, DELTA])\n",
    "\n",
    "with io.capture_output() as captured:\n",
    "    kin_sol_table.optimize()"
   ]
  },
  {
   "cell_type": "code",
   "execution_count": null,
   "metadata": {
    "ExecuteTime": {
     "end_time": "2023-08-29T15:01:17.486886839Z",
     "start_time": "2023-08-29T15:01:17.465826436Z"
    },
    "collapsed": false
   },
   "outputs": [],
   "source": [
    "# Quick check\n",
    "print(min((kin_sol_table.kan[PHI].max(axis=1) - kin_sol_table.kan_coulomb[PHI]) / kin_sol_table.kan[PHI].max(axis=1)))\n",
    "print(max((kin_sol_table.kan[PHI].max(axis=1) - kin_sol_table.kan_coulomb[PHI]) / kin_sol_table.kan[PHI].max(axis=1)))"
   ]
  },
  {
   "cell_type": "code",
   "execution_count": null,
   "metadata": {
    "ExecuteTime": {
     "end_time": "2023-08-29T15:01:54.348389764Z",
     "start_time": "2023-08-29T15:01:54.041303938Z"
    },
    "collapsed": false
   },
   "outputs": [],
   "source": [
    "# Create a DataFrame from the lists\n",
    "df = pd.DataFrame({\n",
    "    'phi': np.rad2deg(phi_array),\n",
    "    'alpha': -np.rad2deg(alpha_array),\n",
    "    'beta': np.rad2deg(beta_array),\n",
    "    'delta': np.rad2deg(delta_array),\n",
    "    'value': kin_sol_table.kan[PHI].max(axis=1)\n",
    "})\n",
    "\n",
    "# Set multi-index and unstack to get the desired format\n",
    "df.set_index(['phi', 'beta', 'alpha'], inplace=True)\n",
    "df = df['value'].unstack(level=-1)\n",
    "\n",
    "# Export to csv\n",
    "df.to_csv(out_dir + \"table2.csv\")"
   ]
  }
 ],
 "metadata": {
  "kernelspec": {
   "display_name": "Python 3 (ipykernel)",
   "language": "python",
   "name": "python3"
  },
  "language_info": {
   "codemirror_mode": {
    "name": "ipython",
    "version": 3
   },
   "file_extension": ".py",
   "mimetype": "text/x-python",
   "name": "python",
   "nbconvert_exporter": "python",
   "pygments_lexer": "ipython3",
   "version": "3.7.6"
  }
 },
 "nbformat": 4,
 "nbformat_minor": 4
}
